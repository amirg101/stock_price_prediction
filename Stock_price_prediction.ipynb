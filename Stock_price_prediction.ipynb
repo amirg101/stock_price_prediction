{
  "nbformat": 4,
  "nbformat_minor": 0,
  "metadata": {
    "colab": {
      "name": "Stock_price_prediction.ipynb",
      "provenance": [],
      "collapsed_sections": []
    },
    "kernelspec": {
      "name": "python3",
      "display_name": "Python 3"
    },
    "language_info": {
      "name": "python"
    }
  },
  "cells": [
    {
      "cell_type": "code",
      "metadata": {
        "id": "UOg411gwbGZA"
      },
      "source": [
        "#importing the required libraries\n",
        "import numpy as np\n",
        "import pandas as pd\n",
        "import matplotlib.pyplot as plt\n",
        "import datetime as dt\n",
        "import pandas_datareader as web\n",
        "from sklearn.preprocessing import MinMaxScaler\n"
      ],
      "execution_count": 1,
      "outputs": []
    },
    {
      "cell_type": "code",
      "metadata": {
        "id": "YFfP-opAbdKE"
      },
      "source": [
        "from tensorflow.keras.models import Sequential\n",
        "from tensorflow.keras.layers import Dense, Dropout, LSTM"
      ],
      "execution_count": 2,
      "outputs": []
    },
    {
      "cell_type": "code",
      "metadata": {
        "id": "bhTplWHMcB5A"
      },
      "source": [
        "#Load the data\n",
        "company ='FB'\n",
        "#start date\n",
        "start=dt.datetime(2013,1,1)\n",
        "#end date\n",
        "end=dt.datetime(2020,1,1)\n",
        "#extract data from Internet sources like yahoo finance\n",
        "data=web.DataReader(company,'yahoo',start,end)\n"
      ],
      "execution_count": 3,
      "outputs": []
    },
    {
      "cell_type": "code",
      "metadata": {
        "id": "6om3a3mecktL"
      },
      "source": [
        "#scaling and translating each feature such that it is in the given range on the training set\n",
        "scaler=MinMaxScaler(feature_range=(0,1))\n",
        "scaled_data=scaler.fit_transform(data['Close'].values.reshape(-1,1))\n",
        "\n"
      ],
      "execution_count": 4,
      "outputs": []
    },
    {
      "cell_type": "code",
      "metadata": {
        "id": "YNkZwQ0Tc1Hw"
      },
      "source": [
        " prediction_days=60\n",
        "\n",
        " x_train=[]\n",
        " y_train=[]"
      ],
      "execution_count": 5,
      "outputs": []
    },
    {
      "cell_type": "code",
      "metadata": {
        "id": "IeGBo9LCdGvU"
      },
      "source": [
        "for x in range(prediction_days,len(scaled_data)):\n",
        "  x_train.append(scaled_data[x-prediction_days:x,0])\n",
        "  y_train.append(scaled_data[x,0])\n",
        "\n",
        "  "
      ],
      "execution_count": 6,
      "outputs": []
    },
    {
      "cell_type": "code",
      "metadata": {
        "id": "ySIQSL_hdMtt"
      },
      "source": [
        "x_train, y_train=np.array(x_train),np.array(y_train)"
      ],
      "execution_count": 7,
      "outputs": []
    },
    {
      "cell_type": "code",
      "metadata": {
        "id": "8vbn1N57KSHs"
      },
      "source": [
        "x_train=np.reshape(x_train,(x_train.shape[0],x_train.shape[1],1))\n",
        "\n"
      ],
      "execution_count": 8,
      "outputs": []
    },
    {
      "cell_type": "code",
      "metadata": {
        "id": "DP1ZstvYKf-V"
      },
      "source": [
        "#grouping a linear stack of layers into a model( Tensorflow - Keras)\n",
        "model=Sequential()\n",
        "model.add(LSTM(units=50,return_sequences=True,input_shape=(x_train.shape[1],1)))\n",
        "\n",
        "model.add(Dropout(0.2))\n",
        "\n",
        "model.add(LSTM(units=50,return_sequences=True))\n",
        "\n",
        "model.add(Dropout(0.2))\n",
        "\n",
        "model.add(LSTM(units=50))\n",
        "\n",
        "model.add(Dropout(0.2))"
      ],
      "execution_count": 9,
      "outputs": []
    },
    {
      "cell_type": "code",
      "metadata": {
        "colab": {
          "base_uri": "https://localhost:8080/"
        },
        "id": "Ukyt0TK4XBi2",
        "outputId": "ac651ca7-9d40-48e0-e0ee-4177195b969b"
      },
      "source": [
        "#prediction of next closing value\n",
        "model.add(Dense(units=1))\n",
        "\n",
        "model.compile(optimizer='adam',loss='mean_squared_error')\n",
        "model.fit(x_train,y_train,epochs=25,batch_size=32)"
      ],
      "execution_count": 10,
      "outputs": [
        {
          "output_type": "stream",
          "text": [
            "Epoch 1/25\n",
            "54/54 [==============================] - 10s 85ms/step - loss: 0.0244\n",
            "Epoch 2/25\n",
            "54/54 [==============================] - 5s 86ms/step - loss: 0.0043\n",
            "Epoch 3/25\n",
            "54/54 [==============================] - 5s 86ms/step - loss: 0.0036\n",
            "Epoch 4/25\n",
            "54/54 [==============================] - 5s 85ms/step - loss: 0.0042\n",
            "Epoch 5/25\n",
            "54/54 [==============================] - 5s 86ms/step - loss: 0.0035\n",
            "Epoch 6/25\n",
            "54/54 [==============================] - 5s 87ms/step - loss: 0.0036\n",
            "Epoch 7/25\n",
            "54/54 [==============================] - 5s 85ms/step - loss: 0.0033\n",
            "Epoch 8/25\n",
            "54/54 [==============================] - 5s 86ms/step - loss: 0.0029\n",
            "Epoch 9/25\n",
            "54/54 [==============================] - 5s 86ms/step - loss: 0.0030\n",
            "Epoch 10/25\n",
            "54/54 [==============================] - 5s 85ms/step - loss: 0.0031\n",
            "Epoch 11/25\n",
            "54/54 [==============================] - 5s 86ms/step - loss: 0.0032\n",
            "Epoch 12/25\n",
            "54/54 [==============================] - 5s 86ms/step - loss: 0.0029\n",
            "Epoch 13/25\n",
            "54/54 [==============================] - 5s 84ms/step - loss: 0.0028\n",
            "Epoch 14/25\n",
            "54/54 [==============================] - 5s 85ms/step - loss: 0.0028\n",
            "Epoch 15/25\n",
            "54/54 [==============================] - 5s 85ms/step - loss: 0.0025\n",
            "Epoch 16/25\n",
            "54/54 [==============================] - 5s 85ms/step - loss: 0.0024\n",
            "Epoch 17/25\n",
            "54/54 [==============================] - 5s 86ms/step - loss: 0.0026\n",
            "Epoch 18/25\n",
            "54/54 [==============================] - 5s 86ms/step - loss: 0.0025\n",
            "Epoch 19/25\n",
            "54/54 [==============================] - 5s 89ms/step - loss: 0.0028\n",
            "Epoch 20/25\n",
            "54/54 [==============================] - 5s 87ms/step - loss: 0.0022\n",
            "Epoch 21/25\n",
            "54/54 [==============================] - 5s 87ms/step - loss: 0.0023\n",
            "Epoch 22/25\n",
            "54/54 [==============================] - 5s 86ms/step - loss: 0.0023\n",
            "Epoch 23/25\n",
            "54/54 [==============================] - 5s 87ms/step - loss: 0.0023\n",
            "Epoch 24/25\n",
            "54/54 [==============================] - 5s 86ms/step - loss: 0.0023\n",
            "Epoch 25/25\n",
            "54/54 [==============================] - 5s 86ms/step - loss: 0.0026\n"
          ],
          "name": "stdout"
        },
        {
          "output_type": "execute_result",
          "data": {
            "text/plain": [
              "<tensorflow.python.keras.callbacks.History at 0x7f5e425d94d0>"
            ]
          },
          "metadata": {
            "tags": []
          },
          "execution_count": 10
        }
      ]
    },
    {
      "cell_type": "code",
      "metadata": {
        "id": "dLggoe98XhkY"
      },
      "source": [
        "'''\n",
        "Test the model accuracy on existing data\n",
        "  load the test data\n",
        "'''\n",
        "test_start=dt.datetime(2020,1,1)\n",
        "test_end=dt.datetime.now()\n",
        "test_data=web.DataReader(company,'yahoo',test_start,test_end)\n",
        "actual_prices=test_data['Close'].values\n",
        "total_dataset=pd.concat((data['Close'],test_data['Close']),axis=0)\n",
        "model_inputs=total_dataset[len(total_dataset)-len(test_data)-prediction_days:].values\n",
        "model_inputs=model_inputs.reshape(-1,1)"
      ],
      "execution_count": 11,
      "outputs": []
    },
    {
      "cell_type": "code",
      "metadata": {
        "id": "Xzgj5atBZ7Hv"
      },
      "source": [
        "model_inputs=scaler.transform(model_inputs)\n"
      ],
      "execution_count": 12,
      "outputs": []
    },
    {
      "cell_type": "code",
      "metadata": {
        "id": "UXQkXu7XaH2I"
      },
      "source": [
        "#Make prediction on test data\n",
        "x_test=[]\n",
        "for x in range(prediction_days,len(model_inputs)+1):\n",
        "  x_test.append(model_inputs[x-prediction_days:x,0])\n",
        "x_test=np.array(x_test)\n",
        "x_test=np.reshape(x_test,(x_test.shape[0],x_test.shape[1],1))\n",
        "predicted_prices=model.predict(x_test)\n",
        "predicted_prices=scaler.inverse_transform(predicted_prices)\n",
        "\n"
      ],
      "execution_count": 13,
      "outputs": []
    },
    {
      "cell_type": "code",
      "metadata": {
        "colab": {
          "base_uri": "https://localhost:8080/",
          "height": 295
        },
        "id": "R9GhAA2VaKiN",
        "outputId": "400f2e1b-a6a7-40eb-ec76-118e916c0bfd"
      },
      "source": [
        "#Plot the test predictions\n",
        "plt.plot(actual_prices,color=\"black\",label=f\"Actual {company} price\")\n",
        "plt.plot(predicted_prices,color=\"red\",label=f\"predicted {company} price\")\n",
        "plt.title(f\"{company} Share Price\")\n",
        "plt.xlabel(\"time\")\n",
        "plt.ylabel(f\"{company} Share Price\")\n",
        "plt.legend()\n",
        "plt.show()\n"
      ],
      "execution_count": 14,
      "outputs": [
        {
          "output_type": "display_data",
          "data": {
            "image/png": "[encoded data removed]",
            "text/plain": [
              "<Figure size 432x288 with 1 Axes>"
            ]
          },
          "metadata": {
            "tags": [],
            "needs_background": "light"
          }
        }
      ]
    },
    {
      "cell_type": "code",
      "metadata": {
        "id": "nnUgXKuDbWg1"
      },
      "source": [
        "#predicting next day (future prices)\n",
        "real_data=[model_inputs[len(model_inputs)+1-prediction_days:len(model_inputs+1),0]]"
      ],
      "execution_count": 15,
      "outputs": []
    },
    {
      "cell_type": "code",
      "metadata": {
        "colab": {
          "base_uri": "https://localhost:8080/"
        },
        "id": "G4KET9P0dHeO",
        "outputId": "b5ff9904-f094-4179-a1a3-a10796b807af"
      },
      "source": [
        "real_data=np.array(real_data)\n",
        "real_data=np.reshape(real_data,(real_data.shape[0],real_data.shape[1],1))\n",
        "\n",
        "prediction=model.predict(real_data)\n",
        "prediction=scaler.inverse_transform(prediction)\n",
        "print(f\"Prediction:{prediction}\")"
      ],
      "execution_count": 16,
      "outputs": [
        {
          "output_type": "stream",
          "text": [
            "WARNING:tensorflow:Model was constructed with shape (None, 60, 1) for input KerasTensor(type_spec=TensorSpec(shape=(None, 60, 1), dtype=tf.float32, name='lstm_input'), name='lstm_input', description=\"created by layer 'lstm_input'\"), but it was called on an input with incompatible shape (None, 59, 1).\n",
            "Prediction:[[281.7601]]\n"
          ],
          "name": "stdout"
        }
      ]
    },
    {
      "cell_type": "code",
      "metadata": {
        "id": "sUCUWn_5eONX"
      },
      "source": [
        "\n"
      ],
      "execution_count": 16,
      "outputs": []
    },
    {
      "cell_type": "code",
      "metadata": {
        "id": "cqa7rTO7CtRV"
      },
      "source": [
        ""
      ],
      "execution_count": 16,
      "outputs": []
    }
  ]
}